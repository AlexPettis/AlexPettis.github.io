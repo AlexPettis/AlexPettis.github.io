{
 "cells": [
  {
   "cell_type": "code",
   "execution_count": 10,
   "metadata": {},
   "outputs": [
    {
     "data": {
      "text/html": [
       "<div>\n",
       "<style scoped>\n",
       "    .dataframe tbody tr th:only-of-type {\n",
       "        vertical-align: middle;\n",
       "    }\n",
       "\n",
       "    .dataframe tbody tr th {\n",
       "        vertical-align: top;\n",
       "    }\n",
       "\n",
       "    .dataframe thead th {\n",
       "        text-align: right;\n",
       "    }\n",
       "</style>\n",
       "<table border=\"1\" class=\"dataframe\">\n",
       "  <thead>\n",
       "    <tr style=\"text-align: right;\">\n",
       "      <th></th>\n",
       "      <th>DateTime</th>\n",
       "      <th>AirTemp</th>\n",
       "      <th>DewPoint</th>\n",
       "      <th>WindDiretion</th>\n",
       "      <th>WindSpeed</th>\n",
       "      <th>SkyCond</th>\n",
       "      <th>Precip_1HR</th>\n",
       "    </tr>\n",
       "  </thead>\n",
       "  <tbody>\n",
       "    <tr>\n",
       "      <th>0</th>\n",
       "      <td>2010-01-01 00:00:00+00:00</td>\n",
       "      <td>7.0</td>\n",
       "      <td>5.0</td>\n",
       "      <td>270.0</td>\n",
       "      <td>2.6</td>\n",
       "      <td>8.0</td>\n",
       "      <td>NaN</td>\n",
       "    </tr>\n",
       "    <tr>\n",
       "      <th>1</th>\n",
       "      <td>2010-01-01 01:00:00+00:00</td>\n",
       "      <td>5.0</td>\n",
       "      <td>4.0</td>\n",
       "      <td>280.0</td>\n",
       "      <td>4.6</td>\n",
       "      <td>8.0</td>\n",
       "      <td>NaN</td>\n",
       "    </tr>\n",
       "    <tr>\n",
       "      <th>2</th>\n",
       "      <td>2010-01-01 02:00:00+00:00</td>\n",
       "      <td>5.0</td>\n",
       "      <td>4.0</td>\n",
       "      <td>280.0</td>\n",
       "      <td>4.6</td>\n",
       "      <td>8.0</td>\n",
       "      <td>NaN</td>\n",
       "    </tr>\n",
       "    <tr>\n",
       "      <th>3</th>\n",
       "      <td>2010-01-01 04:00:00+00:00</td>\n",
       "      <td>4.0</td>\n",
       "      <td>2.0</td>\n",
       "      <td>290.0</td>\n",
       "      <td>7.7</td>\n",
       "      <td>8.0</td>\n",
       "      <td>NaN</td>\n",
       "    </tr>\n",
       "    <tr>\n",
       "      <th>4</th>\n",
       "      <td>2010-01-01 05:00:00+00:00</td>\n",
       "      <td>4.0</td>\n",
       "      <td>2.0</td>\n",
       "      <td>280.0</td>\n",
       "      <td>7.7</td>\n",
       "      <td>8.0</td>\n",
       "      <td>NaN</td>\n",
       "    </tr>\n",
       "    <tr>\n",
       "      <th>...</th>\n",
       "      <td>...</td>\n",
       "      <td>...</td>\n",
       "      <td>...</td>\n",
       "      <td>...</td>\n",
       "      <td>...</td>\n",
       "      <td>...</td>\n",
       "      <td>...</td>\n",
       "    </tr>\n",
       "    <tr>\n",
       "      <th>85952</th>\n",
       "      <td>2020-12-31 19:00:00+00:00</td>\n",
       "      <td>14.0</td>\n",
       "      <td>6.5</td>\n",
       "      <td>300.0</td>\n",
       "      <td>5.1</td>\n",
       "      <td>NaN</td>\n",
       "      <td>NaN</td>\n",
       "    </tr>\n",
       "    <tr>\n",
       "      <th>85953</th>\n",
       "      <td>2020-12-31 20:00:00+00:00</td>\n",
       "      <td>12.8</td>\n",
       "      <td>6.7</td>\n",
       "      <td>300.0</td>\n",
       "      <td>3.1</td>\n",
       "      <td>NaN</td>\n",
       "      <td>NaN</td>\n",
       "    </tr>\n",
       "    <tr>\n",
       "      <th>85954</th>\n",
       "      <td>2020-12-31 21:00:00+00:00</td>\n",
       "      <td>13.0</td>\n",
       "      <td>6.6</td>\n",
       "      <td>0.0</td>\n",
       "      <td>0.0</td>\n",
       "      <td>NaN</td>\n",
       "      <td>NaN</td>\n",
       "    </tr>\n",
       "    <tr>\n",
       "      <th>85955</th>\n",
       "      <td>2020-12-31 22:00:00+00:00</td>\n",
       "      <td>12.5</td>\n",
       "      <td>6.4</td>\n",
       "      <td>0.0</td>\n",
       "      <td>0.0</td>\n",
       "      <td>NaN</td>\n",
       "      <td>NaN</td>\n",
       "    </tr>\n",
       "    <tr>\n",
       "      <th>85956</th>\n",
       "      <td>2020-12-31 23:00:00+00:00</td>\n",
       "      <td>8.8</td>\n",
       "      <td>5.8</td>\n",
       "      <td>0.0</td>\n",
       "      <td>0.0</td>\n",
       "      <td>NaN</td>\n",
       "      <td>NaN</td>\n",
       "    </tr>\n",
       "  </tbody>\n",
       "</table>\n",
       "<p>85957 rows × 7 columns</p>\n",
       "</div>"
      ],
      "text/plain": [
       "                        DateTime  AirTemp  DewPoint  WindDiretion  WindSpeed  \\\n",
       "0      2010-01-01 00:00:00+00:00      7.0       5.0         270.0        2.6   \n",
       "1      2010-01-01 01:00:00+00:00      5.0       4.0         280.0        4.6   \n",
       "2      2010-01-01 02:00:00+00:00      5.0       4.0         280.0        4.6   \n",
       "3      2010-01-01 04:00:00+00:00      4.0       2.0         290.0        7.7   \n",
       "4      2010-01-01 05:00:00+00:00      4.0       2.0         280.0        7.7   \n",
       "...                          ...      ...       ...           ...        ...   \n",
       "85952  2020-12-31 19:00:00+00:00     14.0       6.5         300.0        5.1   \n",
       "85953  2020-12-31 20:00:00+00:00     12.8       6.7         300.0        3.1   \n",
       "85954  2020-12-31 21:00:00+00:00     13.0       6.6           0.0        0.0   \n",
       "85955  2020-12-31 22:00:00+00:00     12.5       6.4           0.0        0.0   \n",
       "85956  2020-12-31 23:00:00+00:00      8.8       5.8           0.0        0.0   \n",
       "\n",
       "       SkyCond  Precip_1HR  \n",
       "0          8.0         NaN  \n",
       "1          8.0         NaN  \n",
       "2          8.0         NaN  \n",
       "3          8.0         NaN  \n",
       "4          8.0         NaN  \n",
       "...        ...         ...  \n",
       "85952      NaN         NaN  \n",
       "85953      NaN         NaN  \n",
       "85954      NaN         NaN  \n",
       "85955      NaN         NaN  \n",
       "85956      NaN         NaN  \n",
       "\n",
       "[85957 rows x 7 columns]"
      ]
     },
     "execution_count": 10,
     "metadata": {},
     "output_type": "execute_result"
    }
   ],
   "source": [
    "import pandas as pd\n",
    "\n",
    "df = pd.read_csv('boone_clean.csv')\n",
    "\n",
    "df"
   ]
  },
  {
   "attachments": {},
   "cell_type": "markdown",
   "metadata": {},
   "source": [
    "# Imputing Values as see fit\n",
    "\n",
    "The reason why I used the mean for this specific data is because I feel that it is a good representation of the data. "
   ]
  },
  {
   "cell_type": "code",
   "execution_count": 17,
   "metadata": {},
   "outputs": [
    {
     "name": "stdout",
     "output_type": "stream",
     "text": [
      "DateTime        2012-08-03 22:00:00+00:00\n",
      "AirTemp                         11.274595\n",
      "DewPoint                         6.235773\n",
      "WindDiretion                          0.0\n",
      "WindSpeed                             0.0\n",
      "SkyCond                               4.0\n",
      "Precip_1HR                            NaN\n",
      "Name: 13364, dtype: object\n"
     ]
    }
   ],
   "source": [
    "mean_airtemp = df['AirTemp'].mean()\n",
    "df['AirTemp'].fillna(mean_airtemp, inplace=True)\n",
    "\n",
    "\n",
    "mean_dewpoint = df['DewPoint'].mean()\n",
    "df['DewPoint'].fillna(mean_dewpoint, inplace=True)\n",
    "\n",
    "mean_winddir = df['WindDiretion'].mean()\n",
    "df['WindDiretion'].fillna(mean_winddir, inplace=True)\n",
    "\n",
    "mean_windspeed = df['WindSpeed'].mean()\n",
    "df['WindSpeed'].fillna(mean_windspeed, inplace = True)\n",
    "\n",
    "mean_skycond = df['SkyCond'].mean()\n",
    "df['SkyCond'].fillna(mean_skycond, inplace = True)"
   ]
  },
  {
   "attachments": {},
   "cell_type": "markdown",
   "metadata": {},
   "source": [
    "## Precip_1HR\n",
    "\n",
    "I decided to fill in the NaNs with 0 because as we know from the weather it does not rain everyday and thus if it rains then there should be no precipitation. "
   ]
  },
  {
   "cell_type": "code",
   "execution_count": 20,
   "metadata": {},
   "outputs": [],
   "source": [
    "df['Precip_1HR'].fillna(0,inplace = True)"
   ]
  },
  {
   "attachments": {},
   "cell_type": "markdown",
   "metadata": {},
   "source": [
    "# Create average for each element of the data by year"
   ]
  },
  {
   "cell_type": "code",
   "execution_count": 32,
   "metadata": {},
   "outputs": [],
   "source": [
    "df['DateTime'] = pd.to_datetime(df['DateTime'])\n",
    "airtemp_year = df.groupby(df['DateTime'].dt.year)['AirTemp'].mean()\n",
    "dewpoint_year = df.groupby(df['DateTime'].dt.year)['DewPoint'].mean()\n",
    "winddirec_year = df.groupby(df['DateTime'].dt.year)['WindDiretion'].mean()\n",
    "windspeed_year = df.groupby(df['DateTime'].dt.year)['WindSpeed'].mean()\n",
    "skycond_year = df.groupby(df['DateTime'].dt.year)['SkyCond'].mean()\n",
    "prec_year = df.groupby(df['DateTime'].dt.year)['Precip_1HR'].mean()"
   ]
  },
  {
   "attachments": {},
   "cell_type": "markdown",
   "metadata": {},
   "source": [
    "# Average each element using year averages"
   ]
  },
  {
   "cell_type": "code",
   "execution_count": 33,
   "metadata": {},
   "outputs": [],
   "source": [
    "airtemp_total = airtemp_year.mean()\n",
    "dewpoint_total = dewpoint_year.mean()\n",
    "winddirec_total = winddirec_year.mean()\n",
    "windspeed_total = windspeed_year.mean()\n",
    "skycond_total = skycond_year.mean()\n",
    "prec_total = prec_year.mean()\n"
   ]
  },
  {
   "attachments": {},
   "cell_type": "markdown",
   "metadata": {},
   "source": [
    "# Create a csv file"
   ]
  },
  {
   "cell_type": "code",
   "execution_count": 40,
   "metadata": {},
   "outputs": [],
   "source": [
    "average_year = {'AirTemp': airtemp_total, 'DewPoint': dewpoint_total, 'WindDirection': winddirec_total, 'WindSpeed': windspeed_total, 'SkyCond': skycond_total, 'Precip_1HR': prec_total}\n",
    "\n",
    "df_average_year = pd.DataFrame(average_year, index=[0])\n",
    "\n",
    "df_average_year.to_csv('Average_Year.csv', index = False)"
   ]
  },
  {
   "cell_type": "markdown",
   "metadata": {},
   "source": []
  }
 ],
 "metadata": {
  "kernelspec": {
   "display_name": "base",
   "language": "python",
   "name": "python3"
  },
  "language_info": {
   "codemirror_mode": {
    "name": "ipython",
    "version": 3
   },
   "file_extension": ".py",
   "mimetype": "text/x-python",
   "name": "python",
   "nbconvert_exporter": "python",
   "pygments_lexer": "ipython3",
   "version": "3.9.13"
  },
  "orig_nbformat": 4
 },
 "nbformat": 4,
 "nbformat_minor": 2
}
