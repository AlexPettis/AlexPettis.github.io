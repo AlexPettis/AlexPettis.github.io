{
 "cells": [
  {
   "cell_type": "code",
   "execution_count": 1,
   "metadata": {},
   "outputs": [
    {
     "name": "stdout",
     "output_type": "stream",
     "text": [
      "100 12.168641660953885 31.74635197336209 37.085006365684094\n"
     ]
    }
   ],
   "source": [
    "def work():\n",
    "  E = 40\n",
    "  P = 27\n",
    "  T = 14\n",
    "  for i in range(1,101):\n",
    "    Enew = .33*E + .14*P + .1*T\n",
    "    Pnew = .25*E + .25*P + .56*T\n",
    "    Tnew = .42*E + .61*P + .34*T\n",
    "    E = Enew\n",
    "    P = Pnew\n",
    "    T = Tnew\n",
    "  print(i, E, P, T)\n",
    "\n",
    "work()"
   ]
  },
  {
   "cell_type": "code",
   "execution_count": 2,
   "metadata": {},
   "outputs": [
    {
     "name": "stdout",
     "output_type": "stream",
     "text": [
      "The population in 5 years is: 173.77304784469638\n",
      "When the number of time steps is: 10000\n",
      "and thus dt is: 0.0005\n"
     ]
    }
   ],
   "source": [
    "def rabbits(n):\n",
    "# n: the number of time steps to take from t=0 to t=5\n",
    "    dt= 5/n\n",
    "    t = 0\n",
    "    P = 15\n",
    "    k = 0.49\n",
    "    for i in range(1,n+1):\n",
    "         P = P + k * P * dt\n",
    "         t = t + dt\n",
    "    print(\"The population in 5 years is:\", P)\n",
    "    print(\"When the number of time steps is:\", n)\n",
    "    print(\"and thus dt is:\", dt)\n",
    "\n",
    "rabbits(10000)"
   ]
  },
  {
   "cell_type": "code",
   "execution_count": 21,
   "metadata": {},
   "outputs": [
    {
     "name": "stdout",
     "output_type": "stream",
     "text": [
      "5  plus 1 is equal to 6\n",
      "5  times 10 is equal to 50\n",
      "5 divided by 100 is equal to 0.05\n",
      "5  raised to a power of 5 is equal to 3125\n",
      "5 ^3 is equal to 6\n"
     ]
    }
   ],
   "source": [
    "def operate(n):\n",
    "  print(n, \" plus 1 is equal to\", n+1)\n",
    "  print(n, \" times 10 is equal to\", n * 10)\n",
    "  print(n, \"divided by 100 is equal to\", n / 100)\n",
    "  print(n, \" raised to a power of 5 is equal to\", n**5)\n",
    "  print(n, \"^3 is equal to\", n^3)\n",
    "\n",
    "operate(5)"
   ]
  },
  {
   "cell_type": "code",
   "execution_count": 23,
   "metadata": {},
   "outputs": [
    {
     "name": "stdout",
     "output_type": "stream",
     "text": [
      "10\n",
      "9\n",
      "8\n",
      "7\n",
      "6\n",
      "5\n",
      "4\n",
      "3\n",
      "2\n"
     ]
    }
   ],
   "source": [
    "def add_one(x):\n",
    "  return(x+1)\n",
    "  \n",
    "def mult_by_ten(x):\n",
    "  return(10*x)\n",
    "    \n",
    "def loop_test():\n",
    "  for i in range(10,1,-1):\n",
    "    print(i)\n",
    "loop_test()"
   ]
  },
  {
   "cell_type": "code",
   "execution_count": 27,
   "metadata": {},
   "outputs": [
    {
     "name": "stdout",
     "output_type": "stream",
     "text": [
      "n is now 3\n",
      "after *10: 30\n"
     ]
    }
   ],
   "source": [
    "def some_calcs(n): \n",
    "  n=add_one(n) \n",
    "  print(\"n is now\", n)\n",
    "  print(\"after *10:\", mult_by_ten(n))\n",
    "some_calcs(2)"
   ]
  }
 ],
 "metadata": {
  "kernelspec": {
   "display_name": "base",
   "language": "python",
   "name": "python3"
  },
  "language_info": {
   "codemirror_mode": {
    "name": "ipython",
    "version": 3
   },
   "file_extension": ".py",
   "mimetype": "text/x-python",
   "name": "python",
   "nbconvert_exporter": "python",
   "pygments_lexer": "ipython3",
   "version": "3.9.13"
  }
 },
 "nbformat": 4,
 "nbformat_minor": 2
}
